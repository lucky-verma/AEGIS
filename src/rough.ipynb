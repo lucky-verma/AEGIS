{
 "cells": [
  {
   "cell_type": "code",
   "execution_count": 2,
   "metadata": {},
   "outputs": [
    {
     "data": {
      "text/plain": [
       "\"An artificial intelligence (AI) agent is a software program that can interact with its environment, collect data, and use the data to perform self-determined tasks to meet predetermined goals. Humans set goals, but an AI agent independently chooses the best actions it needs to perform to achieve those goals. For example, consider a contact ...\\n\\nAI agents use feedback mechanisms, such as other AI agents and human-in-the-loop (HITL), to improve the accuracy of their responses. Let's return to our previous surfing example to highlight this. After the agent forms its response to the user, the agent stores the learned information along with the user's feedback to improve performance ...\\n\\nAn agent takes the power of generative AI a step further, because instead of just assisting you, agents can work alongside you or even on your behalf. Agents can do a range of things, from responding to questions to more complicated or multistep assignments.\\n\\nAI agents are supposed to be the next big thing in AI, but there isn't an exact definition of what they are. To this point, people can't agree on what exactly constitutes an AI agent.\\n\\nAI agents are autonomous software tools that perform tasks, make decisions, and interact with their environment intelligently and rationally. They use ...\\n\\nAI agents are a type of artificial intelligence (AI) system that can understand and respond to customer inquiries without human intervention. They are created ...\\n\\nAn AI agent is a software program or system designed to perform tasks autonomously or semi-autonomously by perceiving its environment, ...\\n\\nAI agents are autonomous programs that can observe their environment, make decisions, and take actions to achieve specific goals.\\n\\nIn artificial intelligence, an intelligent agent is an entity that perceives its environment, takes actions autonomously to achieve goals, and may improve ...\\n\\nHuman-AI Collaboration: AI agents will work alongside humans, enhancing productivity and decision-making in industries such as healthcare, finance, and customer service. Personalization: AI agents will deliver highly personalized experiences by analyzing individual preferences, behaviors, and needs, improving user engagement and satisfaction.\""
      ]
     },
     "execution_count": 2,
     "metadata": {},
     "output_type": "execute_result"
    }
   ],
   "source": [
    "from langchain_community.utilities import SearxSearchWrapper\n",
    "\n",
    "s = SearxSearchWrapper(searx_host=\"http://localhost:8080\")\n",
    "s.run(\"what is a AI Agent?\")"
   ]
  },
  {
   "cell_type": "code",
   "execution_count": null,
   "metadata": {},
   "outputs": [],
   "source": []
  }
 ],
 "metadata": {
  "kernelspec": {
   "display_name": "agent",
   "language": "python",
   "name": "python3"
  },
  "language_info": {
   "codemirror_mode": {
    "name": "ipython",
    "version": 3
   },
   "file_extension": ".py",
   "mimetype": "text/x-python",
   "name": "python",
   "nbconvert_exporter": "python",
   "pygments_lexer": "ipython3",
   "version": "3.12.8"
  }
 },
 "nbformat": 4,
 "nbformat_minor": 2
}
